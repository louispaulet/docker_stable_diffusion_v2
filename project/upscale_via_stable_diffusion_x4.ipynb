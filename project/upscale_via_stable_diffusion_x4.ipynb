{
 "cells": [
  {
   "cell_type": "markdown",
   "id": "ca96e86f-5c09-47a2-910b-ca2ea0de4848",
   "metadata": {},
   "source": [
    "# Prepare"
   ]
  },
  {
   "cell_type": "code",
   "execution_count": null,
   "id": "98317149-6ff1-4db7-b82c-bf027380bf95",
   "metadata": {},
   "outputs": [],
   "source": [
    "!nvidia-smi"
   ]
  },
  {
   "cell_type": "code",
   "execution_count": null,
   "id": "b75362b7-a62c-4d1d-b107-bd6363dde5ba",
   "metadata": {},
   "outputs": [],
   "source": [
    "!python -m xformers.info"
   ]
  },
  {
   "cell_type": "code",
   "execution_count": null,
   "id": "9ea20f37-2305-4e6a-b6ee-bb7032011187",
   "metadata": {},
   "outputs": [],
   "source": [
    "from diffusers import StableDiffusionUpscalePipeline, EulerDiscreteScheduler\n",
    "import torch\n",
    "from torch import autocast"
   ]
  },
  {
   "cell_type": "code",
   "execution_count": null,
   "id": "1ea28645-d06b-481d-89b1-9f495b81da5d",
   "metadata": {},
   "outputs": [],
   "source": [
    "# download model from here\n",
    "# model_id = \"stabilityai/stable-diffusion-x4-upscaler\"\n",
    "\n",
    "# local model path\n",
    "model_id = \"models/stable-diffusion-v2-upscale-x4\"\n",
    "\n",
    "# load model and scheduler\n",
    "model_id = \"stabilityai/stable-diffusion-x4-upscaler\"\n",
    "pipeline = StableDiffusionUpscalePipeline.from_pretrained(model_id, revision=\"fp16\", torch_dtype=torch.float16)\n",
    "pipeline = pipeline.to(\"cuda\")\n",
    "\n",
    "pipeline.enable_attention_slicing()\n",
    "pipeline.device"
   ]
  },
  {
   "cell_type": "code",
   "execution_count": null,
   "id": "63d8e2ad-404c-4d17-ac1a-a18183db04d6",
   "metadata": {},
   "outputs": [],
   "source": [
    "# pipeline.save_pretrained('models/stable-diffusion-v2-upscale-x4')"
   ]
  },
  {
   "cell_type": "markdown",
   "id": "dff0e1eb-f000-4a52-88dd-3cd7339bb15e",
   "metadata": {},
   "source": [
    "# Run"
   ]
  },
  {
   "cell_type": "code",
   "execution_count": null,
   "id": "8eca8ee9-ef0a-4d40-aa55-8e0fbf1f33f6",
   "metadata": {},
   "outputs": [],
   "source": [
    "from PIL import Image\n",
    "\n",
    "low_res_img = Image.open(\"images/test_image.png\").convert(\"RGB\")\n",
    "\n",
    "# cannot go higher as GTX 1080 will explode\n",
    "low_res_img = low_res_img.resize((128, 128))\n",
    "low_res_img"
   ]
  },
  {
   "cell_type": "code",
   "execution_count": null,
   "id": "683cf42b-b65b-4c7e-9cb2-7bb5ac62d225",
   "metadata": {},
   "outputs": [],
   "source": [
    "prompt = \"patek calatrava watch\"\n",
    "upscaled_image = pipeline(prompt=prompt, image=low_res_img).images[0]\n",
    "upscaled_image"
   ]
  }
 ],
 "metadata": {
  "kernelspec": {
   "display_name": "Python 3 (ipykernel)",
   "language": "python",
   "name": "python3"
  },
  "language_info": {
   "codemirror_mode": {
    "name": "ipython",
    "version": 3
   },
   "file_extension": ".py",
   "mimetype": "text/x-python",
   "name": "python",
   "nbconvert_exporter": "python",
   "pygments_lexer": "ipython3",
   "version": "3.10.8"
  }
 },
 "nbformat": 4,
 "nbformat_minor": 5
}
