{
 "cells": [
  {
   "cell_type": "code",
   "execution_count": null,
   "metadata": {
    "id": "sKVPm8Fo9Zh7"
   },
   "outputs": [],
   "source": [
    "!nvidia-smi"
   ]
  },
  {
   "cell_type": "code",
   "execution_count": null,
   "metadata": {},
   "outputs": [],
   "source": [
    "!python -m xformers.info"
   ]
  },
  {
   "cell_type": "code",
   "execution_count": null,
   "metadata": {
    "jupyter": {
     "source_hidden": true
    },
    "tags": []
   },
   "outputs": [],
   "source": [
    "# # !FORCE_CUDA=1 pip install git+https://github.com/facebookresearch/xformers.git@main#egg=xformers\n",
    "\n",
    "# # (Optional) Makes the build much faster\n",
    "# !pip install ninja\n",
    "# # Set TORCH_CUDA_ARCH_LIST if running and building on different GPU types\n",
    "# !pip install -v -U git+https://github.com/facebookresearch/xformers.git@main#egg=xformers\n",
    "# # (this can take dozens of minutes)"
   ]
  },
  {
   "cell_type": "code",
   "execution_count": null,
   "metadata": {
    "id": "NAN5CI5-BlXp"
   },
   "outputs": [],
   "source": [
    "from diffusers import StableDiffusionPipeline, EulerDiscreteScheduler\n",
    "import torch\n",
    "from torch import autocast"
   ]
  },
  {
   "cell_type": "code",
   "execution_count": null,
   "metadata": {
    "id": "84yhHE1y_NSx"
   },
   "outputs": [],
   "source": [
    "# model_id = \"stabilityai/stable-diffusion-2\"\n",
    "\n",
    "# # Use the Euler scheduler here instead\n",
    "# scheduler = EulerDiscreteScheduler.from_pretrained(model_id, subfolder=\"scheduler\")\n",
    "# pipe = StableDiffusionPipeline.from_pretrained(model_id, revision=\"fp16\", torch_dtype=torch.float16)\n",
    "# # pipe = StableDiffusionPipeline.from_pretrained(model_id, scheduler=scheduler, revision=\"fp16\", torch_dtype=torch.float16)\n",
    "# pipe = pipe.to(\"cuda\")\n",
    "# pipe.enable_attention_slicing()"
   ]
  },
  {
   "cell_type": "code",
   "execution_count": null,
   "metadata": {},
   "outputs": [],
   "source": [
    "# pipe.save_pretrained('models/stable-diffusion-v2')"
   ]
  },
  {
   "cell_type": "code",
   "execution_count": null,
   "metadata": {},
   "outputs": [],
   "source": [
    "model_id = \"models/stable-diffusion-v2\"\n",
    "\n",
    "# Use the Euler scheduler here instead\n",
    "# scheduler = EulerDiscreteScheduler.from_pretrained(model_id, subfolder=\"scheduler\")\n",
    "pipe = StableDiffusionPipeline.from_pretrained(model_id, revision=\"fp16\", torch_dtype=torch.float16)\n",
    "# pipe = StableDiffusionPipeline.from_pretrained(model_id, scheduler=scheduler, revision=\"fp16\", torch_dtype=torch.float16)\n",
    "pipe = pipe.to(0)\n",
    "pipe.enable_attention_slicing()\n",
    "pipe.device"
   ]
  },
  {
   "cell_type": "code",
   "execution_count": null,
   "metadata": {
    "id": "_nfxOjVrFq-9"
   },
   "outputs": [],
   "source": [
    "# prompt = \"50mm photograph of a majestic big mac hamburger composed of grilled beef patties and fresh salad and tomato and secret sauce and melted american cheese and sesame seed buns, the background is a serene landscape in the style of monet, 4k award winning food photography, trending on artstation\"\n",
    "prompt = \"environment shot 50mm lens photograph of a majestic big mac hamburger flying, 4k award winning food photography, trending on artstation\"\n",
    "\n",
    "seed_generator = torch.Generator('cuda').manual_seed(42)\n",
    "\n",
    "def txt2img(prompt, cpt):\n",
    "    with autocast('cuda'):\n",
    "      image = pipe(prompt, height=768, width=768,generator=seed_generator, guidance_scale = 7.5).images[0]\n",
    "      image.save(f\"images/{cpt}_sd_image.png\")\n",
    "\n",
    "    return image\n"
   ]
  },
  {
   "cell_type": "code",
   "execution_count": null,
   "metadata": {
    "id": "GG_aywiYDoRv"
   },
   "outputs": [],
   "source": [
    "for i in range(1):\n",
    "    image = txt2img(prompt, i)\n",
    "    display(image)"
   ]
  },
  {
   "cell_type": "code",
   "execution_count": null,
   "metadata": {
    "id": "Kd0VPSyrF4dt"
   },
   "outputs": [],
   "source": [
    "# !pip install gradio -q"
   ]
  },
  {
   "cell_type": "code",
   "execution_count": null,
   "metadata": {
    "id": "1_vsQP-yD9kB"
   },
   "outputs": [],
   "source": [
    "# import gradio as gr \n",
    "\n",
    "# gr.Interface(txt2img, gr.Text(), gr.Image(), title = 'Stable Diffusion 2.0 Colab with Gradio UI').launch(share = True, debug = True)"
   ]
  },
  {
   "cell_type": "code",
   "execution_count": null,
   "metadata": {
    "id": "8hYpiVORFyH0"
   },
   "outputs": [],
   "source": []
  }
 ],
 "metadata": {
  "accelerator": "GPU",
  "colab": {
   "provenance": []
  },
  "gpuClass": "standard",
  "kernelspec": {
   "display_name": "Python 3 (ipykernel)",
   "language": "python",
   "name": "python3"
  },
  "language_info": {
   "codemirror_mode": {
    "name": "ipython",
    "version": 3
   },
   "file_extension": ".py",
   "mimetype": "text/x-python",
   "name": "python",
   "nbconvert_exporter": "python",
   "pygments_lexer": "ipython3",
   "version": "3.9.12"
  }
 },
 "nbformat": 4,
 "nbformat_minor": 4
}
