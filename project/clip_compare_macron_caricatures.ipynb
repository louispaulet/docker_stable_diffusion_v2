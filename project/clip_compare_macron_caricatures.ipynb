{
 "cells": [
  {
   "cell_type": "markdown",
   "id": "4e613c14-ce39-4ed1-9170-e3ce08d20783",
   "metadata": {},
   "source": [
    "# CLIP order images - Notebook\n",
    "\n",
    "We order Macron caricatures using boolean CLIP filters.  \n",
    "\n",
    "## CLIP propositions\n",
    "\n",
    "This notebook applies boolean filters depending on CLIP VitL-14.  \n",
    "Each image is analyzed and two propositions are submitted. The winning proposition is returned (or a boolean if the first proposition is True).  \n",
    "\n",
    "Eg.  We submit a cat image, and two propositions: \"image of a cat\", \"image of a dog\".  \n",
    "CLIP will return \"image of a cat\", or True (as the first proposition is True).  \n",
    "\n",
    "## Macron caricatures filtering\n",
    "\n",
    "We submit a list of propositions and retain all images that check all filters (all boolean filter results equal to True).  \n",
    "In the end, we go from 300 images to a short-list of 10 images, with a noticeable resemblance to Macron while beeing caricatures.  "
   ]
  },
  {
   "cell_type": "markdown",
   "id": "c8020ac5-9b15-46d4-80fe-193d7a6e27a7",
   "metadata": {},
   "source": [
    "# Import and install libs"
   ]
  },
  {
   "cell_type": "code",
   "execution_count": null,
   "id": "05b197ed-149f-47dd-8848-2ab23328bc7b",
   "metadata": {},
   "outputs": [],
   "source": [
    "import pandas as pd\n",
    "import numpy as np\n",
    "from glob import glob\n",
    "from tqdm.auto import tqdm\n",
    "\n",
    "tqdm.pandas()"
   ]
  },
  {
   "cell_type": "markdown",
   "id": "50bee625-6e7a-48ba-b6a4-0d928a21d1b0",
   "metadata": {},
   "source": [
    "## Import default CLIP test snippet"
   ]
  },
  {
   "cell_type": "code",
   "execution_count": null,
   "id": "230012de-653b-4d78-8bcb-0f04f4d6f9f9",
   "metadata": {},
   "outputs": [],
   "source": [
    "from PIL import Image\n",
    "import requests\n",
    "\n",
    "from transformers import CLIPProcessor, CLIPModel\n",
    "\n",
    "model = CLIPModel.from_pretrained(\"openai/clip-vit-large-patch14\")\n",
    "processor = CLIPProcessor.from_pretrained(\"openai/clip-vit-large-patch14\")\n",
    "\n",
    "url = \"http://images.cocodataset.org/val2017/000000039769.jpg\"\n",
    "image = Image.open(requests.get(url, stream=True).raw)\n",
    "\n",
    "inputs = processor(text=[\"a photo of a cat\", \"a photo of a dog\"], images=image, return_tensors=\"pt\", padding=True)\n",
    "\n",
    "outputs = model(**inputs)\n",
    "logits_per_image = outputs.logits_per_image # this is the image-text similarity score\n",
    "probs = logits_per_image.softmax(dim=1) # we can take the softmax to get the label probabilities"
   ]
  },
  {
   "cell_type": "markdown",
   "id": "658f41fa-dca6-46d4-85f2-188a6133cd3d",
   "metadata": {},
   "source": [
    "# Make functions to perform CLIP on image"
   ]
  },
  {
   "cell_type": "code",
   "execution_count": null,
   "id": "8fffcd46-2390-49a7-a650-b613a9796902",
   "metadata": {},
   "outputs": [],
   "source": [
    "def labels_and_probs_to_answer(label_list, probs):\n",
    "    \n",
    "    assert len(label_list) == 2, 'label_list must be of len 2'\n",
    "        \n",
    "    some_floats = probs.detach().numpy()\n",
    "    np_array = (np.rint(some_floats)).astype(int)\n",
    "    prob_list = np_array.tolist()[0]\n",
    "    \n",
    "    return label_list[not prob_list[0]]"
   ]
  },
  {
   "cell_type": "code",
   "execution_count": null,
   "id": "8032df11-c4c7-4eb9-9922-7bd908dfc4c6",
   "metadata": {},
   "outputs": [],
   "source": [
    "# returns winning proposition\n",
    "\n",
    "def from_filename_to_answer(filename, label_list):\n",
    "    with Image.open(filename) as im:\n",
    "        im = im.convert(\"RGB\")\n",
    "        # display(im)\n",
    "        inputs = processor(text=label_list, images=im, return_tensors=\"pt\", padding=True)\n",
    "\n",
    "    outputs = model(**inputs)\n",
    "    logits_per_image = outputs.logits_per_image # this is the image-text similarity score\n",
    "    probs = logits_per_image.softmax(dim=1) # we can take the softmax to get the label probabilities\n",
    "    \n",
    "    return labels_and_probs_to_answer(label_list, probs)"
   ]
  },
  {
   "cell_type": "code",
   "execution_count": null,
   "id": "80f0ae1d-6d20-4ce1-a120-cdc560de0d9e",
   "metadata": {},
   "outputs": [],
   "source": [
    "# returns True if first proposition has won\n",
    "\n",
    "def from_filename_to_bool(filename, label_list):\n",
    "    with Image.open(filename) as im:\n",
    "        im = im.convert(\"RGB\")\n",
    "        # display(im)\n",
    "        inputs = processor(text=label_list, images=im, return_tensors=\"pt\", padding=True)\n",
    "\n",
    "    outputs = model(**inputs)\n",
    "    logits_per_image = outputs.logits_per_image # this is the image-text similarity score\n",
    "    probs = logits_per_image.softmax(dim=1) # we can take the softmax to get the label probabilities\n",
    "    \n",
    "    return labels_and_probs_to_answer(label_list, probs) == label_list[0]"
   ]
  },
  {
   "cell_type": "markdown",
   "id": "4cb4b3c6-77d6-49f8-8338-1265841db96c",
   "metadata": {},
   "source": [
    "## Test functions"
   ]
  },
  {
   "cell_type": "code",
   "execution_count": null,
   "id": "6c8c90e9-6f63-4d6f-88e6-a1c948317f36",
   "metadata": {},
   "outputs": [],
   "source": [
    "# output should be \"picture of emmanuel macron\" and \"True\"\n",
    "# no assertions to prevent from blocking future runs\n",
    "\n",
    "print(from_filename_to_answer('image_to_image/macron/macron.png', ['picture of emmanuel macron', 'picture of a man']))\n",
    "print(from_filename_to_bool('image_to_image/macron/macron.png', ['picture of emmanuel macron', 'picture of a man']))"
   ]
  },
  {
   "cell_type": "markdown",
   "id": "9fe2f6e6-caf9-4561-9322-9ffb29c0d784",
   "metadata": {},
   "source": [
    "# RUN"
   ]
  },
  {
   "cell_type": "markdown",
   "id": "557ed6af-5e3c-46cb-902d-51fc71e6fbf8",
   "metadata": {},
   "source": [
    "## Load filename list and convert to dataframe"
   ]
  },
  {
   "cell_type": "code",
   "execution_count": null,
   "id": "828782fc-b924-4e05-8f62-25fa25927956",
   "metadata": {
    "tags": []
   },
   "outputs": [],
   "source": [
    "input_path = \"image_to_image/macron_db\"\n",
    "filename_list = sorted(glob(input_path+\"/*/*\", recursive = True))\n",
    "# filename_list"
   ]
  },
  {
   "cell_type": "code",
   "execution_count": null,
   "id": "17541e8e-6ea8-4330-a86f-08e9e344f827",
   "metadata": {
    "tags": []
   },
   "outputs": [],
   "source": [
    "macron_db_df = pd.DataFrame(filename_list)\n",
    "macron_db_df.columns = ['filename']\n",
    "# macron_db_df"
   ]
  },
  {
   "cell_type": "markdown",
   "id": "129ce6bb-5217-47f3-bca8-86d84b40400f",
   "metadata": {},
   "source": [
    "## Apply CLIP filters"
   ]
  },
  {
   "cell_type": "code",
   "execution_count": null,
   "id": "d8ec7f68-deb4-465d-8b0b-9bc51586610a",
   "metadata": {},
   "outputs": [],
   "source": [
    "# obsolete use of the winning proposition\n",
    "\n",
    "# macron_db_df['caricature'] = macron_db_df.progress_apply(lambda row: from_filename_to_answer(row['filename'], label_list), axis=1)"
   ]
  },
  {
   "cell_type": "code",
   "execution_count": null,
   "id": "800f8a8b-392b-4434-a29a-88b3fe224e63",
   "metadata": {},
   "outputs": [],
   "source": [
    "# current use of the boolean winning proposition\n",
    "label_list = [\"looks like a caricature\", \"looks like a random drawing\"]\n",
    "macron_db_df['is_caricature'] = macron_db_df.progress_apply(lambda row: from_filename_to_bool(row['filename'], label_list), axis=1)"
   ]
  },
  {
   "cell_type": "code",
   "execution_count": null,
   "id": "d088f2ad-56db-4afa-8c06-ab5f439c1566",
   "metadata": {},
   "outputs": [],
   "source": [
    "# perform CLIP filtering on other questions\n",
    "\n",
    "# DEACTIVATED FILTER: too much randomness\n",
    "# label_list = [\"this picture is a meme\", \"this picture is not a meme\"]\n",
    "# macron_db_df['is_meme'] = macron_db_df.progress_apply(lambda row: from_filename_to_bool(row['filename'], label_list), axis=1)\n",
    "\n",
    "label_list = [\"a black and white image\", \"a color photograph\"]\n",
    "macron_db_df['is_black_and_white_image'] = macron_db_df.progress_apply(lambda row: from_filename_to_bool(row['filename'], label_list), axis=1)\n",
    "\n",
    "label_list = [\"a drawing of a portrait\", \"a picture of a portrait\"]\n",
    "macron_db_df['is_drawing'] = macron_db_df.progress_apply(lambda row: from_filename_to_bool(row['filename'], label_list), axis=1)\n",
    "\n",
    "label_list = [\"a meme about emmanuel macron\", \"a meme about you dont say\"]\n",
    "macron_db_df['is_macron_meme'] = macron_db_df.progress_apply(lambda row: from_filename_to_bool(row['filename'], label_list), axis=1)\n",
    "\n",
    "label_list = [\"a man with two eyes\", \"a man missing an eye\"]\n",
    "macron_db_df['has_two_eyes'] = macron_db_df.progress_apply(lambda row: from_filename_to_bool(row['filename'], label_list), axis=1)\n",
    "\n",
    "label_list = [\"a beautiful portrait\", \"an ugly portrait\"]\n",
    "macron_db_df['is_beautiful_portrait'] = macron_db_df.progress_apply(lambda row: from_filename_to_bool(row['filename'], label_list), axis=1)\n",
    "\n",
    "label_list = [\"looks like a meme\", \"looks like a random drawing\"]\n",
    "macron_db_df['looks_like_meme'] = macron_db_df.progress_apply(lambda row: from_filename_to_bool(row['filename'], label_list), axis=1)"
   ]
  },
  {
   "cell_type": "code",
   "execution_count": null,
   "id": "f576ad52-9541-447a-8e6d-78f7e058a236",
   "metadata": {},
   "outputs": [],
   "source": [
    "macron_db_df"
   ]
  },
  {
   "cell_type": "code",
   "execution_count": null,
   "id": "3212b002-80b7-4efa-94b1-343850cdc4d8",
   "metadata": {},
   "outputs": [],
   "source": [
    "# save results to csv\n",
    "\n",
    "macron_db_df.to_csv(\"macron_db_df.csv\", sep=',')"
   ]
  },
  {
   "cell_type": "markdown",
   "id": "724a9d7f-456e-4610-b126-dea3e8140df3",
   "metadata": {},
   "source": [
    "## Filter on CLIP filter results"
   ]
  },
  {
   "cell_type": "code",
   "execution_count": null,
   "id": "7fabe8fb-9974-48fb-9053-0d188bd91800",
   "metadata": {},
   "outputs": [],
   "source": [
    "# filter results on CLIP filter output\n",
    "\n",
    "macron_db_df_bestof = macron_db_df[macron_db_df.is_caricature]\n",
    "# macron_db_df_bestof = macron_db_df_bestof[macron_db_df.is_meme]\n",
    "macron_db_df_bestof = macron_db_df_bestof[macron_db_df.is_black_and_white_image]\n",
    "macron_db_df_bestof = macron_db_df_bestof[macron_db_df.is_drawing]\n",
    "macron_db_df_bestof = macron_db_df_bestof[macron_db_df.is_macron_meme]\n",
    "\n",
    "macron_db_df_bestof = macron_db_df_bestof[macron_db_df.has_two_eyes]\n",
    "macron_db_df_bestof = macron_db_df_bestof[macron_db_df.is_beautiful_portrait]\n",
    "macron_db_df_bestof = macron_db_df_bestof[macron_db_df.looks_like_meme]\n",
    "\n",
    "macron_db_df_bestof"
   ]
  },
  {
   "cell_type": "code",
   "execution_count": null,
   "id": "954f87c9-622c-438e-a032-23b31751f409",
   "metadata": {},
   "outputs": [],
   "source": [
    "# save to csv\n",
    "macron_db_df_bestof.to_csv(\"macron_db_df_bestof.csv\", sep=',')\n",
    "\n",
    "# resume from csv\n",
    "macron_db_df_bestof = pd.read_csv(\"macron_db_df_bestof.csv\", sep=',', index_col=0)\n",
    "macron_db_df_bestof"
   ]
  },
  {
   "cell_type": "markdown",
   "id": "0b667aef-b3c2-44f7-9257-18799d8802af",
   "metadata": {},
   "source": [
    "## Move best pictures to folder and display images here"
   ]
  },
  {
   "cell_type": "code",
   "execution_count": null,
   "id": "f493f3b1-3751-40ad-8e9a-0345724d4e28",
   "metadata": {},
   "outputs": [],
   "source": [
    "# move files into bestof folder\n",
    "\n",
    "for filename in macron_db_df_bestof['filename']:\n",
    "    !cp $filename bestof/"
   ]
  },
  {
   "cell_type": "code",
   "execution_count": null,
   "id": "a490be8c-3179-4dca-9729-0d44cadf53ff",
   "metadata": {
    "tags": []
   },
   "outputs": [],
   "source": [
    "# display bestof files\n",
    "\n",
    "for filename in macron_db_df_bestof['filename']:\n",
    "     print(filename)\n",
    "     with Image.open(filename) as im:\n",
    "        im = im.convert(\"RGB\")\n",
    "        display(im)"
   ]
  },
  {
   "cell_type": "code",
   "execution_count": null,
   "id": "2086b13e-4459-4198-92e8-810387f5a138",
   "metadata": {},
   "outputs": [],
   "source": []
  }
 ],
 "metadata": {
  "kernelspec": {
   "display_name": "Python 3 (ipykernel)",
   "language": "python",
   "name": "python3"
  },
  "language_info": {
   "codemirror_mode": {
    "name": "ipython",
    "version": 3
   },
   "file_extension": ".py",
   "mimetype": "text/x-python",
   "name": "python",
   "nbconvert_exporter": "python",
   "pygments_lexer": "ipython3",
   "version": "3.9.12"
  }
 },
 "nbformat": 4,
 "nbformat_minor": 5
}
